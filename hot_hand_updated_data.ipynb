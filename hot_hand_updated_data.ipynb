{
 "cells": [
  {
   "cell_type": "markdown",
   "metadata": {},
   "source": [
    "# Hot Hand Updated Dataset\n"
   ]
  },
  {
   "cell_type": "code",
   "execution_count": 3,
   "metadata": {
    "collapsed": true
   },
   "outputs": [],
   "source": [
    "## Load necessary libraries\n",
    "import numpy as np\n",
    "import pandas as pd\n",
    "import scipy as sp\n",
    "from sklearn import linear_model\n",
    "import matplotlib.pyplot as plt\n",
    "from sklearn import discriminant_analysis\n",
    "from sklearn.decomposition import PCA\n",
    "from sklearn import preprocessing\n",
    "from sklearn import tree\n",
    "from sklearn import ensemble\n",
    "from sklearn.cross_validation import KFold\n",
    "import StringIO\n",
    "import matplotlib\n",
    "import matplotlib.pyplot as plt\n",
    "%matplotlib inline"
   ]
  },
  {
   "cell_type": "code",
   "execution_count": 4,
   "metadata": {
    "collapsed": false
   },
   "outputs": [
    {
     "name": "stdout",
     "output_type": "stream",
     "text": [
      "Number of variables: 24\n",
      "Variable names: ['unnamed: 0' 'game_id' 'matchup' 'location' 'w' 'final_margin'\n",
      " 'shot_number' 'period' 'game_clock' 'shot_clock' 'dribbles' 'touch_time'\n",
      " 'shot_dist' 'pts_type' 'shot_result' 'closest_defender'\n",
      " 'closest_defender_player_id' 'close_def_dist' 'fgm' 'pts' 'player_name'\n",
      " 'player_id' 'fg_percent' 'current_streak']\n",
      "Number of observations/shots: 118033\n"
     ]
    },
    {
     "data": {
      "text/html": [
       "<div>\n",
       "<table border=\"1\" class=\"dataframe\">\n",
       "  <thead>\n",
       "    <tr style=\"text-align: right;\">\n",
       "      <th></th>\n",
       "      <th>unnamed: 0</th>\n",
       "      <th>game_id</th>\n",
       "      <th>matchup</th>\n",
       "      <th>location</th>\n",
       "      <th>w</th>\n",
       "      <th>final_margin</th>\n",
       "      <th>shot_number</th>\n",
       "      <th>period</th>\n",
       "      <th>game_clock</th>\n",
       "      <th>shot_clock</th>\n",
       "      <th>...</th>\n",
       "      <th>shot_result</th>\n",
       "      <th>closest_defender</th>\n",
       "      <th>closest_defender_player_id</th>\n",
       "      <th>close_def_dist</th>\n",
       "      <th>fgm</th>\n",
       "      <th>pts</th>\n",
       "      <th>player_name</th>\n",
       "      <th>player_id</th>\n",
       "      <th>fg_percent</th>\n",
       "      <th>current_streak</th>\n",
       "    </tr>\n",
       "  </thead>\n",
       "  <tbody>\n",
       "    <tr>\n",
       "      <th>0</th>\n",
       "      <td>28621</td>\n",
       "      <td>21400054</td>\n",
       "      <td>NOV 04, 2014 - NOP vs. CHA</td>\n",
       "      <td>H</td>\n",
       "      <td>W</td>\n",
       "      <td>9</td>\n",
       "      <td>1</td>\n",
       "      <td>1</td>\n",
       "      <td>2:29</td>\n",
       "      <td>22.1</td>\n",
       "      <td>...</td>\n",
       "      <td>made</td>\n",
       "      <td>Roberts, Brian</td>\n",
       "      <td>203148</td>\n",
       "      <td>4.4</td>\n",
       "      <td>1</td>\n",
       "      <td>3</td>\n",
       "      <td>ryan anderson</td>\n",
       "      <td>201583</td>\n",
       "      <td>0.407407</td>\n",
       "      <td>1</td>\n",
       "    </tr>\n",
       "    <tr>\n",
       "      <th>1</th>\n",
       "      <td>28622</td>\n",
       "      <td>21400054</td>\n",
       "      <td>NOV 04, 2014 - NOP vs. CHA</td>\n",
       "      <td>H</td>\n",
       "      <td>W</td>\n",
       "      <td>9</td>\n",
       "      <td>2</td>\n",
       "      <td>2</td>\n",
       "      <td>11:19</td>\n",
       "      <td>5.8</td>\n",
       "      <td>...</td>\n",
       "      <td>made</td>\n",
       "      <td>Zeller, Cody</td>\n",
       "      <td>203469</td>\n",
       "      <td>6.1</td>\n",
       "      <td>1</td>\n",
       "      <td>2</td>\n",
       "      <td>ryan anderson</td>\n",
       "      <td>201583</td>\n",
       "      <td>0.407407</td>\n",
       "      <td>2</td>\n",
       "    </tr>\n",
       "    <tr>\n",
       "      <th>2</th>\n",
       "      <td>28623</td>\n",
       "      <td>21400054</td>\n",
       "      <td>NOV 04, 2014 - NOP vs. CHA</td>\n",
       "      <td>H</td>\n",
       "      <td>W</td>\n",
       "      <td>9</td>\n",
       "      <td>3</td>\n",
       "      <td>2</td>\n",
       "      <td>10:51</td>\n",
       "      <td>10.2</td>\n",
       "      <td>...</td>\n",
       "      <td>missed</td>\n",
       "      <td>Maxiell, Jason</td>\n",
       "      <td>101131</td>\n",
       "      <td>5.7</td>\n",
       "      <td>0</td>\n",
       "      <td>0</td>\n",
       "      <td>ryan anderson</td>\n",
       "      <td>201583</td>\n",
       "      <td>0.407407</td>\n",
       "      <td>-1</td>\n",
       "    </tr>\n",
       "    <tr>\n",
       "      <th>3</th>\n",
       "      <td>28624</td>\n",
       "      <td>21400054</td>\n",
       "      <td>NOV 04, 2014 - NOP vs. CHA</td>\n",
       "      <td>H</td>\n",
       "      <td>W</td>\n",
       "      <td>9</td>\n",
       "      <td>4</td>\n",
       "      <td>2</td>\n",
       "      <td>8:21</td>\n",
       "      <td>24.0</td>\n",
       "      <td>...</td>\n",
       "      <td>made</td>\n",
       "      <td>Zeller, Cody</td>\n",
       "      <td>203469</td>\n",
       "      <td>2.6</td>\n",
       "      <td>1</td>\n",
       "      <td>2</td>\n",
       "      <td>ryan anderson</td>\n",
       "      <td>201583</td>\n",
       "      <td>0.407407</td>\n",
       "      <td>1</td>\n",
       "    </tr>\n",
       "    <tr>\n",
       "      <th>4</th>\n",
       "      <td>28625</td>\n",
       "      <td>21400054</td>\n",
       "      <td>NOV 04, 2014 - NOP vs. CHA</td>\n",
       "      <td>H</td>\n",
       "      <td>W</td>\n",
       "      <td>9</td>\n",
       "      <td>5</td>\n",
       "      <td>2</td>\n",
       "      <td>7:59</td>\n",
       "      <td>16.0</td>\n",
       "      <td>...</td>\n",
       "      <td>missed</td>\n",
       "      <td>Zeller, Cody</td>\n",
       "      <td>203469</td>\n",
       "      <td>6.5</td>\n",
       "      <td>0</td>\n",
       "      <td>0</td>\n",
       "      <td>ryan anderson</td>\n",
       "      <td>201583</td>\n",
       "      <td>0.407407</td>\n",
       "      <td>-1</td>\n",
       "    </tr>\n",
       "  </tbody>\n",
       "</table>\n",
       "<p>5 rows × 24 columns</p>\n",
       "</div>"
      ],
      "text/plain": [
       "   unnamed: 0   game_id                     matchup location  w  final_margin  \\\n",
       "0       28621  21400054  NOV 04, 2014 - NOP vs. CHA        H  W             9   \n",
       "1       28622  21400054  NOV 04, 2014 - NOP vs. CHA        H  W             9   \n",
       "2       28623  21400054  NOV 04, 2014 - NOP vs. CHA        H  W             9   \n",
       "3       28624  21400054  NOV 04, 2014 - NOP vs. CHA        H  W             9   \n",
       "4       28625  21400054  NOV 04, 2014 - NOP vs. CHA        H  W             9   \n",
       "\n",
       "   shot_number  period game_clock  shot_clock       ...        shot_result  \\\n",
       "0            1       1       2:29        22.1       ...               made   \n",
       "1            2       2      11:19         5.8       ...               made   \n",
       "2            3       2      10:51        10.2       ...             missed   \n",
       "3            4       2       8:21        24.0       ...               made   \n",
       "4            5       2       7:59        16.0       ...             missed   \n",
       "\n",
       "   closest_defender  closest_defender_player_id  close_def_dist fgm pts  \\\n",
       "0    Roberts, Brian                      203148             4.4   1   3   \n",
       "1      Zeller, Cody                      203469             6.1   1   2   \n",
       "2    Maxiell, Jason                      101131             5.7   0   0   \n",
       "3      Zeller, Cody                      203469             2.6   1   2   \n",
       "4      Zeller, Cody                      203469             6.5   0   0   \n",
       "\n",
       "     player_name  player_id  fg_percent  current_streak  \n",
       "0  ryan anderson     201583    0.407407               1  \n",
       "1  ryan anderson     201583    0.407407               2  \n",
       "2  ryan anderson     201583    0.407407              -1  \n",
       "3  ryan anderson     201583    0.407407               1  \n",
       "4  ryan anderson     201583    0.407407              -1  \n",
       "\n",
       "[5 rows x 24 columns]"
      ]
     },
     "execution_count": 4,
     "metadata": {},
     "output_type": "execute_result"
    }
   ],
   "source": [
    "## Read in data\n",
    "shot_logs_full = pd.read_csv('datasets/Augmented_Dataset.csv')\n",
    "shot_logs_full.columns = map(str.lower, shot_logs_full.columns)\n",
    "\n",
    "# Preview data\n",
    "print 'Number of variables:', np.shape(shot_logs_full)[1]\n",
    "print 'Variable names:', shot_logs_full.columns.values\n",
    "print 'Number of observations/shots:', np.shape(shot_logs_full)[0]\n",
    "shot_logs_full.head()"
   ]
  },
  {
   "cell_type": "code",
   "execution_count": 5,
   "metadata": {
    "collapsed": false
   },
   "outputs": [
    {
     "name": "stdout",
     "output_type": "stream",
     "text": [
      "                          std\n",
      "ryan anderson             NaN\n",
      "chandler parsons          NaN\n",
      "kirk hinrich              NaN\n",
      "kentavious caldwell-pope  NaN\n",
      "kevin love                NaN\n",
      "john wall                 NaN\n",
      "kyle korver               NaN\n",
      "enes kanter               NaN\n",
      "danny green               NaN\n",
      "carmelo anthony           NaN\n",
      "carlos boozer             NaN\n",
      "stephen curry             NaN\n",
      "zach randolph             NaN\n",
      "nick collison             NaN\n",
      "luc mbah a moute          NaN\n",
      "jamal crawford            NaN\n",
      "joakim noah               NaN\n",
      "mnta ellis                NaN\n",
      "rasual butler             NaN\n",
      "luis scola                NaN\n",
      "manu ginobili             NaN\n",
      "rodney stuckey            NaN\n",
      "eric bledsoe              NaN\n",
      "arron afflalo             NaN\n",
      "damjan rudez              NaN\n",
      "cj miles                  NaN\n",
      "jonas valanciunas         NaN\n",
      "harrison barnes           NaN\n",
      "cole aldrich              NaN\n",
      "jared sullinger           NaN\n",
      "...                       ...\n",
      "leandro barbosa           NaN\n",
      "brook lopez               NaN\n",
      "cj mccollum               NaN\n",
      "kosta koufos              NaN\n",
      "jeff teague               NaN\n",
      "kyle lowry                NaN\n",
      "nick young                NaN\n",
      "jeremy lamb               NaN\n",
      "boris diaw                NaN\n",
      "dante cunningham          NaN\n",
      "andre iguodala            NaN\n",
      "ben gordon                NaN\n",
      "devin harris              NaN\n",
      "kris humphries            NaN\n",
      "avery bradley             NaN\n",
      "donald sloan              NaN\n",
      "tony allen                NaN\n",
      "richard jefferson         NaN\n",
      "nikola vucevic            NaN\n",
      "zach lavine               NaN\n",
      "kent bazemore             NaN\n",
      "nikola mirotic            NaN\n",
      "shabazz napier            NaN\n",
      "garrett temple            NaN\n",
      "jason thompson            NaN\n",
      "ronnie price              NaN\n",
      "kj mcdaniels              NaN\n",
      "chris bosh                NaN\n",
      "jj hickson                NaN\n",
      "wayne ellington           NaN\n",
      "\n",
      "[259 rows x 1 columns]\n"
     ]
    }
   ],
   "source": [
    "#create column names\n",
    "columns = ['std']\n",
    "columns2 = ['shots']\n",
    "columns3 = ['score']\n",
    "\n",
    "#create dataframes to fill\n",
    "index = shot_logs_full.player_name.unique()\n",
    "d = pd.DataFrame(index=index, columns=columns)\n",
    "d2 = pd.DataFrame(index=index, columns=columns2)\n",
    "print d"
   ]
  },
  {
   "cell_type": "code",
   "execution_count": 6,
   "metadata": {
    "collapsed": false
   },
   "outputs": [
    {
     "name": "stdout",
     "output_type": "stream",
     "text": [
      "                              std\n",
      "ryan anderson             9.77712\n",
      "chandler parsons           9.2691\n",
      "kirk hinrich              7.14817\n",
      "kentavious caldwell-pope  8.78201\n",
      "kevin love                9.19338\n",
      "john wall                 8.25484\n",
      "kyle korver                5.3433\n",
      "enes kanter                7.6715\n",
      "danny green               8.59863\n",
      "carmelo anthony           8.21407\n",
      "carlos boozer             5.99205\n",
      "stephen curry             9.26037\n",
      "zach randolph             6.76672\n",
      "nick collison             9.33285\n",
      "luc mbah a moute          9.43966\n",
      "jamal crawford             7.4995\n",
      "joakim noah               7.03438\n",
      "mnta ellis                8.26314\n",
      "rasual butler             7.46405\n",
      "luis scola                7.61052\n",
      "manu ginobili             9.52537\n",
      "rodney stuckey            7.70039\n",
      "eric bledsoe              9.54971\n",
      "arron afflalo             7.40032\n",
      "damjan rudez              7.40378\n",
      "cj miles                  8.22976\n",
      "jonas valanciunas         4.21869\n",
      "harrison barnes           8.93967\n",
      "cole aldrich              2.65298\n",
      "jared sullinger           9.11409\n",
      "...                           ...\n",
      "leandro barbosa           9.45524\n",
      "brook lopez               6.77145\n",
      "cj mccollum                8.5727\n",
      "kosta koufos              4.40154\n",
      "jeff teague               8.78241\n",
      "kyle lowry                8.94081\n",
      "nick young                7.53829\n",
      "jeremy lamb                8.3895\n",
      "boris diaw                9.28313\n",
      "dante cunningham          7.68504\n",
      "andre iguodala            8.92588\n",
      "ben gordon                7.34925\n",
      "devin harris              9.23268\n",
      "kris humphries            7.55824\n",
      "avery bradley             8.10201\n",
      "donald sloan              9.07078\n",
      "tony allen                6.28916\n",
      "richard jefferson         9.26046\n",
      "nikola vucevic            6.42169\n",
      "zach lavine               9.36239\n",
      "kent bazemore             9.33741\n",
      "nikola mirotic            9.71049\n",
      "shabazz napier            8.22168\n",
      "garrett temple            8.43933\n",
      "jason thompson            6.89514\n",
      "ronnie price               9.0073\n",
      "kj mcdaniels              9.62568\n",
      "chris bosh                7.25082\n",
      "jj hickson                4.67276\n",
      "wayne ellington           7.77938\n",
      "\n",
      "[259 rows x 1 columns]\n"
     ]
    }
   ],
   "source": [
    "#get standard deviation of shot distance for each player\n",
    "for i in shot_logs_full.player_name.unique():\n",
    "    \n",
    "    df = shot_logs_full[(shot_logs_full.player_name==i)]\n",
    "    std = df['shot_dist'].std()\n",
    "\n",
    "    d.set_value(i, 'std', std)\n",
    "    \n",
    "print d"
   ]
  },
  {
   "cell_type": "code",
   "execution_count": 26,
   "metadata": {
    "collapsed": false
   },
   "outputs": [
    {
     "name": "stdout",
     "output_type": "stream",
     "text": [
      "ryan anderson               12.7059\n",
      "chandler parsons            12.4815\n",
      "kirk hinrich                      0\n",
      "kentavious caldwell-pope    11.5593\n",
      "kevin love                  13.0508\n",
      "john wall                   14.3279\n",
      "kyle korver                 8.39286\n",
      "enes kanter                 11.9245\n",
      "danny green                 9.71429\n",
      "carmelo anthony             20.3077\n",
      "carlos boozer               10.6897\n",
      "stephen curry               16.9298\n",
      "zach randolph                 13.42\n",
      "nick collison                     0\n",
      "luc mbah a moute                9.7\n",
      "jamal crawford              13.3833\n",
      "joakim noah                 8.10811\n",
      "mnta ellis                  17.2295\n",
      "rasual butler               8.45652\n",
      "luis scola                  8.41509\n",
      "manu ginobili               10.1739\n",
      "rodney stuckey              10.4902\n",
      "eric bledsoe                12.8333\n",
      "arron afflalo               12.4444\n",
      "damjan rudez                      0\n",
      "cj miles                    11.9783\n",
      "jonas valanciunas           8.54545\n",
      "harrison barnes             8.62745\n",
      "cole aldrich                      0\n",
      "jared sullinger             13.0392\n",
      "                             ...   \n",
      "leandro barbosa                   0\n",
      "brook lopez                 13.0833\n",
      "cj mccollum                       0\n",
      "kosta koufos                      0\n",
      "jeff teague                 12.6481\n",
      "kyle lowry                  15.1552\n",
      "nick young                  11.4878\n",
      "jeremy lamb                       0\n",
      "boris diaw                  8.30612\n",
      "dante cunningham                  0\n",
      "andre iguodala              7.23077\n",
      "ben gordon                        0\n",
      "devin harris                8.08163\n",
      "kris humphries              8.08889\n",
      "avery bradley               13.0172\n",
      "donald sloan                      0\n",
      "tony allen                  7.69767\n",
      "richard jefferson                 0\n",
      "nikola vucevic              16.1071\n",
      "zach lavine                 8.57895\n",
      "kent bazemore                     0\n",
      "nikola mirotic                8.075\n",
      "shabazz napier                    0\n",
      "garrett temple                    0\n",
      "jason thompson                    0\n",
      "ronnie price                      0\n",
      "kj mcdaniels                9.07143\n",
      "chris bosh                  16.9318\n",
      "jj hickson                   7.2381\n",
      "wayne ellington             9.78571\n",
      "Name: shots, dtype: object\n"
     ]
    }
   ],
   "source": [
    "#get average number of shots per game for each player\n",
    "for i in shot_logs_full.player_name.unique():\n",
    "    \n",
    "    df = shot_logs_full[(shot_logs_full.player_name==i)]\n",
    "    gamesunique = df.game_id.unique()\n",
    "    games = len(gamesunique)\n",
    "    #only use players who have played in at least 35 games\n",
    "    if games < 35:\n",
    "        shotspg = 0\n",
    "    else:\n",
    "        shotspg = (float(df.shape[0])/float(games))\n",
    "\n",
    "    d2.set_value(i, 'shots', shotspg)\n",
    "    \n",
    "print d2['shots']\n",
    "\n"
   ]
  },
  {
   "cell_type": "code",
   "execution_count": 29,
   "metadata": {
    "collapsed": false
   },
   "outputs": [
    {
     "data": {
      "text/plain": [
       "<matplotlib.text.Text at 0x115574a8>"
      ]
     },
     "execution_count": 29,
     "metadata": {},
     "output_type": "execute_result"
    },
    {
     "data": {
      "image/png": "[encoded data removed]",
      "text/plain": [
       "<matplotlib.figure.Figure at 0x11709470>"
      ]
     },
     "metadata": {},
     "output_type": "display_data"
    }
   ],
   "source": [
    "plt.figure(figsize=(10,7))\n",
    "plt.plot(d['std'].values, d2.values, 'o', c='red')\n",
    "plt.title('Shots per Game vs. Shot Distance Standard Dev.')\n",
    "plt.xlabel('Shot Distance Standard Dev.')\n",
    "plt.ylabel('Shots per Game')"
   ]
  },
  {
   "cell_type": "code",
   "execution_count": 8,
   "metadata": {
    "collapsed": false
   },
   "outputs": [
    {
     "name": "stdout",
     "output_type": "stream",
     "text": [
      "                                 0         1\n",
      "ryan anderson             0.953945  0.591889\n",
      "chandler parsons          0.890421  0.581435\n",
      "kirk hinrich              0.625217  0.000000\n",
      "kentavious caldwell-pope  0.829514  0.538478\n",
      "kevin love                0.880953  0.607959\n",
      "john wall                 0.763597  0.667447\n",
      "kyle korver               0.399532  0.390972\n",
      "enes kanter               0.690654  0.555490\n",
      "danny green               0.806584  0.452529\n",
      "carmelo anthony           0.758499  0.946011\n",
      "carlos boozer             0.480653  0.497965\n",
      "stephen curry             0.889329  0.788656\n",
      "zach randolph             0.577519  0.625155\n",
      "nick collison             0.898393  0.000000\n",
      "luc mbah a moute          0.911749  0.451863\n",
      "jamal crawford            0.669147  0.623447\n",
      "joakim noah               0.610988  0.377707\n",
      "mnta ellis                0.764634  0.802617\n",
      "rasual butler             0.664715  0.393937\n",
      "luis scola                0.683030  0.392008\n",
      "manu ginobili             0.922465  0.473940\n",
      "rodney stuckey            0.694267  0.488674\n",
      "eric bledsoe              0.925509  0.597826\n",
      "arron afflalo             0.656746  0.579710\n",
      "damjan rudez              0.657178  0.000000\n",
      "cj miles                  0.760460  0.557994\n",
      "jonas valanciunas         0.258910  0.398080\n",
      "harrison barnes           0.849229  0.401900\n",
      "cole aldrich              0.063131  0.000000\n",
      "jared sullinger           0.871038  0.607417\n",
      "...                            ...       ...\n",
      "leandro barbosa           0.913696  0.000000\n",
      "brook lopez               0.578111  0.609472\n",
      "cj mccollum               0.803341  0.000000\n",
      "kosta koufos              0.281773  0.000000\n",
      "jeff teague               0.829565  0.589199\n",
      "kyle lowry                0.849372  0.705986\n",
      "nick young                0.673997  0.535146\n",
      "jeremy lamb               0.780435  0.000000\n",
      "boris diaw                0.892175  0.386931\n",
      "dante cunningham          0.692348  0.000000\n",
      "andre iguodala            0.847504  0.336837\n",
      "ben gordon                0.650360  0.000000\n",
      "devin harris              0.885867  0.376474\n",
      "kris humphries            0.676493  0.376812\n",
      "avery bradley             0.744486  0.606393\n",
      "donald sloan              0.865623  0.000000\n",
      "tony allen                0.517804  0.358587\n",
      "richard jefferson         0.889341  0.000000\n",
      "nikola vucevic            0.534376  0.750333\n",
      "zach lavine               0.902086  0.399640\n",
      "kent bazemore             0.898962  0.000000\n",
      "nikola mirotic            0.945613  0.376165\n",
      "shabazz napier            0.759450  0.000000\n",
      "garrett temple            0.786665  0.000000\n",
      "jason thompson            0.593578  0.000000\n",
      "ronnie price              0.857685  0.000000\n",
      "kj mcdaniels              0.935008  0.422582\n",
      "chris bosh                0.638052  0.788749\n",
      "jj hickson                0.315687  0.337178\n",
      "wayne ellington           0.704143  0.455856\n",
      "\n",
      "[259 rows x 2 columns]\n"
     ]
    },
    {
     "name": "stderr",
     "output_type": "stream",
     "text": [
      "C:\\Users\\Thomas\\Anaconda2\\lib\\site-packages\\sklearn\\utils\\validation.py:420: DataConversionWarning: Data with input dtype object was converted to float64 by MinMaxScaler.\n",
      "  warnings.warn(msg, DataConversionWarning)\n"
     ]
    }
   ],
   "source": [
    "d['shots'] = pd.Series(d2['shots'], index=index)\n",
    "\n",
    "from sklearn import preprocessing\n",
    "\n",
    "#scale the values\n",
    "x = d.values\n",
    "min_max_scaler = preprocessing.MinMaxScaler()\n",
    "x_scaled = min_max_scaler.fit_transform(x)\n",
    "df_scaled = pd.DataFrame(x_scaled, index = index)\n",
    "\n",
    "print df_scaled"
   ]
  },
  {
   "cell_type": "code",
   "execution_count": 9,
   "metadata": {
    "collapsed": false
   },
   "outputs": [
    {
     "name": "stdout",
     "output_type": "stream",
     "text": [
      "                       score\n",
      "lebron james         1.79978\n",
      "damian lillard       1.76668\n",
      "russell westbrook    1.74949\n",
      "james harden         1.74102\n",
      "carmelo anthony      1.70451\n",
      "stephen curry        1.67799\n",
      "kobe bryant          1.66612\n",
      "derrick rose          1.6625\n",
      "kyrie irving         1.63913\n",
      "kemba walker         1.62315\n",
      "tyreke evans          1.5936\n",
      "klay thompson        1.58903\n",
      "mnta ellis           1.56725\n",
      "lamarcus aldridge     1.5583\n",
      "kyle lowry           1.55536\n",
      "blake griffin        1.55364\n",
      "ryan anderson        1.54583\n",
      "victor oladipo       1.53729\n",
      "brandon knight       1.52814\n",
      "eric bledsoe         1.52333\n",
      "jimmy butler         1.52071\n",
      "wilson chandler      1.51676\n",
      "brandon jennings     1.50455\n",
      "gordon hayward       1.50184\n",
      "kevin love           1.48891\n",
      "jared sullinger      1.47846\n",
      "chandler parsons     1.47186\n",
      "evan fournier        1.47148\n",
      "rudy gay             1.46933\n",
      "demarcus cousins     1.46117\n",
      "...                      ...\n",
      "steve blake         0.659524\n",
      "damjan rudez        0.657178\n",
      "jonas valanciunas    0.65699\n",
      "jj hickson          0.652865\n",
      "ben gordon           0.65036\n",
      "caron butler          0.6381\n",
      "omri casspi         0.636283\n",
      "carl landry         0.635234\n",
      "kirk hinrich        0.625217\n",
      "kevin garnett       0.604869\n",
      "tristan thompson     0.59428\n",
      "jason thompson      0.593578\n",
      "travis wear          0.57629\n",
      "mason plumlee        0.56083\n",
      "alex len            0.524027\n",
      "deandre jordan       0.49562\n",
      "aron baynes         0.468278\n",
      "robert sacre        0.408171\n",
      "ed davis            0.407862\n",
      "shaun livingston    0.399987\n",
      "jusuf nurkic        0.379404\n",
      "alexis ajinca       0.378626\n",
      "omer asik           0.342058\n",
      "kosta koufos        0.281773\n",
      "andrew bogut        0.212465\n",
      "steve adams         0.134423\n",
      "john henson         0.077106\n",
      "cole aldrich       0.0631308\n",
      "dwight howard      0.0479464\n",
      "rudy gobert                0\n",
      "\n",
      "[259 rows x 1 columns]\n"
     ]
    }
   ],
   "source": [
    "index = shot_logs_full.player_name.unique()\n",
    "df_score = pd.DataFrame(index=index, columns=columns3)\n",
    "\n",
    "#calculate score for each player by adding the two columns together.\n",
    "for index, row in df_scaled.iterrows():\n",
    "    score = row.iloc[0] + row.iloc[1]\n",
    "    df_score.set_value(index, 'score', score)\n",
    "\n",
    "\n",
    "#sort by score\n",
    "df_score = df_score.sort_values('score', ascending = False)\n",
    "\n",
    "print df_score"
   ]
  },
  {
   "cell_type": "code",
   "execution_count": 10,
   "metadata": {
    "collapsed": false
   },
   "outputs": [
    {
     "name": "stdout",
     "output_type": "stream",
     "text": [
      "Index([u'lebron james', u'damian lillard', u'russell westbrook',\n",
      "       u'james harden', u'carmelo anthony', u'stephen curry', u'kobe bryant',\n",
      "       u'derrick rose', u'kyrie irving', u'kemba walker',\n",
      "       ...\n",
      "       u'jusuf nurkic', u'alexis ajinca', u'omer asik', u'kosta koufos',\n",
      "       u'andrew bogut', u'steve adams', u'john henson', u'cole aldrich',\n",
      "       u'dwight howard', u'rudy gobert'],\n",
      "      dtype='object', length=259)\n"
     ]
    }
   ],
   "source": [
    "print df_score.index"
   ]
  },
  {
   "cell_type": "code",
   "execution_count": 15,
   "metadata": {
    "collapsed": false
   },
   "outputs": [
    {
     "data": {
      "image/png": "[encoded data removed]",
      "text/plain": [
       "<matplotlib.figure.Figure at 0xd522278>"
      ]
     },
     "metadata": {},
     "output_type": "display_data"
    }
   ],
   "source": [
    "fig = plt.figure(figsize=(10, 10))\n",
    "ax1 = fig.add_subplot(1, 1, 1)\n",
    "ax1.hist(df_score.values, bins = 20)\n",
    "ax1.set_title('Number of Players in Different Score Categories')\n",
    "ax1.set_ylabel('Number of Players')\n",
    "ax1.set_xlabel('Player Score')\n",
    "plt.show()"
   ]
  },
  {
   "cell_type": "code",
   "execution_count": 14,
   "metadata": {
    "collapsed": false
   },
   "outputs": [
    {
     "data": {
      "text/plain": [
       "<matplotlib.text.Text at 0xd22b7f0>"
      ]
     },
     "execution_count": 14,
     "metadata": {},
     "output_type": "execute_result"
    },
    {
     "data": {
      "image/png": "[encoded data removed]",
      "text/plain": [
       "<matplotlib.figure.Figure at 0xd0e7898>"
      ]
     },
     "metadata": {},
     "output_type": "display_data"
    }
   ],
   "source": [
    "# plot a bar graph of number of streaks\n",
    "ind = np.arange(259)  # the x locations for the groups\n",
    "width = 0.1       # the width of the bars\n",
    "\n",
    "fig = plt.figure(figsize=(15,10))\n",
    "ax = fig.add_subplot(1, 1, 1)\n",
    "rects1 = ax.bar(ind, df_score.values, width, color='r')\n",
    "\n",
    "# add some text for labels, title and axes ticks\n",
    "ax.set_ylabel('Streak Count')\n",
    "ax.set_xlabel('Player')\n",
    "ax.set_title('Shooter Score by Player')\n",
    "\n"
   ]
  },
  {
   "cell_type": "code",
   "execution_count": 14,
   "metadata": {
    "collapsed": false
   },
   "outputs": [],
   "source": [
    "## Export df_score\n",
    "df_score.to_csv(path_or_buf='datasets/df_score.csv')"
   ]
  },
  {
   "cell_type": "code",
   "execution_count": null,
   "metadata": {
    "collapsed": true
   },
   "outputs": [],
   "source": []
  }
 ],
 "metadata": {
  "anaconda-cloud": {},
  "kernelspec": {
   "display_name": "Python [Root]",
   "language": "python",
   "name": "Python [Root]"
  },
  "language_info": {
   "codemirror_mode": {
    "name": "ipython",
    "version": 2
   },
   "file_extension": ".py",
   "mimetype": "text/x-python",
   "name": "python",
   "nbconvert_exporter": "python",
   "pygments_lexer": "ipython2",
   "version": "2.7.12"
  }
 },
 "nbformat": 4,
 "nbformat_minor": 0
}
