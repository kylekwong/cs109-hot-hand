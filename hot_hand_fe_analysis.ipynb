{
 "cells": [
  {
   "cell_type": "markdown",
   "metadata": {},
   "source": [
    "# Modeling Continued\n",
    "\n",
    "## Analyzing Defender Fixed Effects\n",
    "\n",
    "** Chip **"
   ]
  },
  {
   "cell_type": "code",
   "execution_count": 102,
   "metadata": {
    "collapsed": true
   },
   "outputs": [],
   "source": [
    "## Load necessary libraries\n",
    "import numpy as np\n",
    "import pandas as pd\n",
    "import scipy as sp\n",
    "import statsmodels.api as sm\n",
    "from sklearn import linear_model\n",
    "from sklearn.linear_model import LogisticRegression\n",
    "import matplotlib.pyplot as plt\n",
    "from sklearn import discriminant_analysis\n",
    "from sklearn.decomposition import PCA\n",
    "from sklearn import preprocessing\n",
    "from sklearn import tree\n",
    "from sklearn import ensemble\n",
    "from sklearn.cross_validation import KFold\n",
    "from sklearn.cross_validation import train_test_split\n",
    "from datetime import datetime, timedelta\n",
    "from dateutil.parser import *\n",
    "import StringIO\n",
    "import matplotlib\n",
    "import matplotlib.pyplot as plt\n",
    "%matplotlib inline"
   ]
  },
  {
   "cell_type": "code",
   "execution_count": 103,
   "metadata": {
    "collapsed": true
   },
   "outputs": [],
   "source": [
    "## Goals:\n",
    "# Demonstrate past ability of model \n",
    "# Create dummy var for each player id\n",
    "# Create new model using defender fixed effects\n",
    "# What about player fixed effects even?"
   ]
  },
  {
   "cell_type": "code",
   "execution_count": 104,
   "metadata": {
    "collapsed": false,
    "scrolled": false
   },
   "outputs": [
    {
     "name": "stdout",
     "output_type": "stream",
     "text": [
      "Number of variables: 25\n",
      "Variable names: ['game_id' 'matchup' 'location' 'w' 'final_margin' 'shot_number' 'period'\n",
      " 'game_clock' 'shot_clock' 'dribbles' 'touch_time' 'shot_dist' 'pts_type'\n",
      " 'shot_result' 'closest_defender' 'closest_defender_player_id'\n",
      " 'close_def_dist' 'fgm' 'pts' 'player_name' 'player_id' 'fg_percent'\n",
      " 'current_streak' 'previous_streak' 'W']\n",
      "Number of observations/shots: 118033\n"
     ]
    },
    {
     "data": {
      "text/html": [
       "<div>\n",
       "<table border=\"1\" class=\"dataframe\">\n",
       "  <thead>\n",
       "    <tr style=\"text-align: right;\">\n",
       "      <th></th>\n",
       "      <th>game_id</th>\n",
       "      <th>matchup</th>\n",
       "      <th>location</th>\n",
       "      <th>w</th>\n",
       "      <th>final_margin</th>\n",
       "      <th>shot_number</th>\n",
       "      <th>period</th>\n",
       "      <th>game_clock</th>\n",
       "      <th>shot_clock</th>\n",
       "      <th>dribbles</th>\n",
       "      <th>...</th>\n",
       "      <th>closest_defender_player_id</th>\n",
       "      <th>close_def_dist</th>\n",
       "      <th>fgm</th>\n",
       "      <th>pts</th>\n",
       "      <th>player_name</th>\n",
       "      <th>player_id</th>\n",
       "      <th>fg_percent</th>\n",
       "      <th>current_streak</th>\n",
       "      <th>previous_streak</th>\n",
       "      <th>W</th>\n",
       "    </tr>\n",
       "  </thead>\n",
       "  <tbody>\n",
       "    <tr>\n",
       "      <th>28621</th>\n",
       "      <td>21400054</td>\n",
       "      <td>NOV 04, 2014 - NOP vs. CHA</td>\n",
       "      <td>H</td>\n",
       "      <td>W</td>\n",
       "      <td>9</td>\n",
       "      <td>1</td>\n",
       "      <td>1</td>\n",
       "      <td>2:29</td>\n",
       "      <td>22.1</td>\n",
       "      <td>0</td>\n",
       "      <td>...</td>\n",
       "      <td>203148</td>\n",
       "      <td>4.4</td>\n",
       "      <td>1</td>\n",
       "      <td>3</td>\n",
       "      <td>ryan anderson</td>\n",
       "      <td>201583</td>\n",
       "      <td>0.407407</td>\n",
       "      <td>1</td>\n",
       "      <td>0</td>\n",
       "      <td>1.0</td>\n",
       "    </tr>\n",
       "    <tr>\n",
       "      <th>28622</th>\n",
       "      <td>21400054</td>\n",
       "      <td>NOV 04, 2014 - NOP vs. CHA</td>\n",
       "      <td>H</td>\n",
       "      <td>W</td>\n",
       "      <td>9</td>\n",
       "      <td>2</td>\n",
       "      <td>2</td>\n",
       "      <td>11:19</td>\n",
       "      <td>5.8</td>\n",
       "      <td>2</td>\n",
       "      <td>...</td>\n",
       "      <td>203469</td>\n",
       "      <td>6.1</td>\n",
       "      <td>1</td>\n",
       "      <td>2</td>\n",
       "      <td>ryan anderson</td>\n",
       "      <td>201583</td>\n",
       "      <td>0.407407</td>\n",
       "      <td>2</td>\n",
       "      <td>1</td>\n",
       "      <td>1.0</td>\n",
       "    </tr>\n",
       "    <tr>\n",
       "      <th>28623</th>\n",
       "      <td>21400054</td>\n",
       "      <td>NOV 04, 2014 - NOP vs. CHA</td>\n",
       "      <td>H</td>\n",
       "      <td>W</td>\n",
       "      <td>9</td>\n",
       "      <td>3</td>\n",
       "      <td>2</td>\n",
       "      <td>10:51</td>\n",
       "      <td>10.2</td>\n",
       "      <td>2</td>\n",
       "      <td>...</td>\n",
       "      <td>101131</td>\n",
       "      <td>5.7</td>\n",
       "      <td>0</td>\n",
       "      <td>0</td>\n",
       "      <td>ryan anderson</td>\n",
       "      <td>201583</td>\n",
       "      <td>0.407407</td>\n",
       "      <td>-1</td>\n",
       "      <td>2</td>\n",
       "      <td>1.0</td>\n",
       "    </tr>\n",
       "    <tr>\n",
       "      <th>28624</th>\n",
       "      <td>21400054</td>\n",
       "      <td>NOV 04, 2014 - NOP vs. CHA</td>\n",
       "      <td>H</td>\n",
       "      <td>W</td>\n",
       "      <td>9</td>\n",
       "      <td>4</td>\n",
       "      <td>2</td>\n",
       "      <td>8:21</td>\n",
       "      <td>24.0</td>\n",
       "      <td>0</td>\n",
       "      <td>...</td>\n",
       "      <td>203469</td>\n",
       "      <td>2.6</td>\n",
       "      <td>1</td>\n",
       "      <td>2</td>\n",
       "      <td>ryan anderson</td>\n",
       "      <td>201583</td>\n",
       "      <td>0.407407</td>\n",
       "      <td>1</td>\n",
       "      <td>-1</td>\n",
       "      <td>1.0</td>\n",
       "    </tr>\n",
       "    <tr>\n",
       "      <th>28625</th>\n",
       "      <td>21400054</td>\n",
       "      <td>NOV 04, 2014 - NOP vs. CHA</td>\n",
       "      <td>H</td>\n",
       "      <td>W</td>\n",
       "      <td>9</td>\n",
       "      <td>5</td>\n",
       "      <td>2</td>\n",
       "      <td>7:59</td>\n",
       "      <td>16.0</td>\n",
       "      <td>0</td>\n",
       "      <td>...</td>\n",
       "      <td>203469</td>\n",
       "      <td>6.5</td>\n",
       "      <td>0</td>\n",
       "      <td>0</td>\n",
       "      <td>ryan anderson</td>\n",
       "      <td>201583</td>\n",
       "      <td>0.407407</td>\n",
       "      <td>-1</td>\n",
       "      <td>1</td>\n",
       "      <td>1.0</td>\n",
       "    </tr>\n",
       "  </tbody>\n",
       "</table>\n",
       "<p>5 rows × 25 columns</p>\n",
       "</div>"
      ],
      "text/plain": [
       "        game_id                     matchup location  w  final_margin  \\\n",
       "28621  21400054  NOV 04, 2014 - NOP vs. CHA        H  W             9   \n",
       "28622  21400054  NOV 04, 2014 - NOP vs. CHA        H  W             9   \n",
       "28623  21400054  NOV 04, 2014 - NOP vs. CHA        H  W             9   \n",
       "28624  21400054  NOV 04, 2014 - NOP vs. CHA        H  W             9   \n",
       "28625  21400054  NOV 04, 2014 - NOP vs. CHA        H  W             9   \n",
       "\n",
       "       shot_number  period game_clock  shot_clock  dribbles ...   \\\n",
       "28621            1       1       2:29        22.1         0 ...    \n",
       "28622            2       2      11:19         5.8         2 ...    \n",
       "28623            3       2      10:51        10.2         2 ...    \n",
       "28624            4       2       8:21        24.0         0 ...    \n",
       "28625            5       2       7:59        16.0         0 ...    \n",
       "\n",
       "       closest_defender_player_id  close_def_dist  fgm pts    player_name  \\\n",
       "28621                      203148             4.4    1   3  ryan anderson   \n",
       "28622                      203469             6.1    1   2  ryan anderson   \n",
       "28623                      101131             5.7    0   0  ryan anderson   \n",
       "28624                      203469             2.6    1   2  ryan anderson   \n",
       "28625                      203469             6.5    0   0  ryan anderson   \n",
       "\n",
       "       player_id  fg_percent  current_streak  previous_streak    W  \n",
       "28621     201583    0.407407               1                0  1.0  \n",
       "28622     201583    0.407407               2                1  1.0  \n",
       "28623     201583    0.407407              -1                2  1.0  \n",
       "28624     201583    0.407407               1               -1  1.0  \n",
       "28625     201583    0.407407              -1                1  1.0  \n",
       "\n",
       "[5 rows x 25 columns]"
      ]
     },
     "execution_count": 104,
     "metadata": {},
     "output_type": "execute_result"
    }
   ],
   "source": [
    "## Load in dataset with proper features\n",
    "\n",
    "# Read in data\n",
    "data = pd.read_csv('datasets/dataset_post_model', index_col=0)\n",
    "\n",
    "# Preview data\n",
    "print 'Number of variables:', np.shape(data)[1]\n",
    "print 'Variable names:', data.columns.values\n",
    "print 'Number of observations/shots:', np.shape(data)[0]\n",
    "data.head()"
   ]
  },
  {
   "cell_type": "code",
   "execution_count": 105,
   "metadata": {
    "collapsed": false
   },
   "outputs": [
    {
     "name": "stdout",
     "output_type": "stream",
     "text": [
      "Classification rate: 0.608061168298\n"
     ]
    }
   ],
   "source": [
    "## Past model\n",
    "\n",
    "# Create array of possible confounders\n",
    "possible_confounders = ['previous_streak', 'final_margin', 'dribbles', 'touch_time', 'shot_dist', 'close_def_dist', \n",
    "                        'fg_percent', 'shot_clock']\n",
    "\n",
    "# Choose x_set\n",
    "x = data[possible_confounders]\n",
    "y = data['fgm'].values\n",
    "\n",
    "# Look at results\n",
    "logit = sm.Logit(y, x)\n",
    "result = logit.fit(disp=0)\n",
    "result.summary()\n",
    "\n",
    "## Score model\n",
    "\n",
    "# Split robust predictors\n",
    "x_train, x_test, y_train, y_test = train_test_split(x, y, train_size=0.6, random_state=42)\n",
    "\n",
    "# Fit model\n",
    "robust_logit = LogisticRegression(C=100000000.0)\n",
    "robust_logit.fit(x_train, y_train)\n",
    "\n",
    "# Score and print\n",
    "score = robust_logit.score(x_test, y_test)\n",
    "print 'Classification rate:', score"
   ]
  },
  {
   "cell_type": "code",
   "execution_count": 106,
   "metadata": {
    "collapsed": false
   },
   "outputs": [
    {
     "name": "stdout",
     "output_type": "stream",
     "text": [
      "474\n"
     ]
    }
   ],
   "source": [
    "# How many unique defenders are there?\n",
    "unique_defender_id = data['closest_defender_player_id'].unique()\n",
    "print len(unique_defender_id)"
   ]
  },
  {
   "cell_type": "code",
   "execution_count": 107,
   "metadata": {
    "collapsed": true
   },
   "outputs": [],
   "source": [
    "## Create dummy var for each player id\n",
    "encoding = pd.get_dummies(data['closest_defender_player_id'])\n",
    "data_fe = pd.concat((data, encoding), axis=1)"
   ]
  },
  {
   "cell_type": "code",
   "execution_count": 108,
   "metadata": {
    "collapsed": false
   },
   "outputs": [
    {
     "name": "stdout",
     "output_type": "stream",
     "text": [
      "Number of variables: 499\n"
     ]
    }
   ],
   "source": [
    "# New number of variables\n",
    "print 'Number of variables:', np.shape(data_fe)[1]"
   ]
  },
  {
   "cell_type": "code",
   "execution_count": 109,
   "metadata": {
    "collapsed": false
   },
   "outputs": [
    {
     "name": "stdout",
     "output_type": "stream",
     "text": [
      "Classification rate: 0.606557377049\n"
     ]
    }
   ],
   "source": [
    "## Fit new model w/ defender fe's\n",
    "\n",
    "# Choose x_set\n",
    "x_old = data[possible_confounders]\n",
    "defender_fe = data_fe.iloc[:, -474:]\n",
    "x_new = pd.concat((x_old, defender_fe), axis=1)\n",
    "\n",
    "# Split robust predictors\n",
    "x_train, x_test, y_train, y_test = train_test_split(x_new, y, train_size=0.6, random_state=42)\n",
    "\n",
    "# Fit model\n",
    "robust_logit = LogisticRegression()\n",
    "robust_logit.fit(x_train, y_train)\n",
    "\n",
    "# Score and print\n",
    "score = robust_logit.score(x_test, y_test)\n",
    "print 'Classification rate:', score\n"
   ]
  },
  {
   "cell_type": "markdown",
   "metadata": {},
   "source": [
    "** lol **\n",
    "No increase in class rate whatsoever. Let's try some other fe's tho!"
   ]
  },
  {
   "cell_type": "code",
   "execution_count": 110,
   "metadata": {
    "collapsed": false
   },
   "outputs": [
    {
     "name": "stdout",
     "output_type": "stream",
     "text": [
      "Number of unique shooters: 259\n",
      "Number of variables: 284\n",
      "Classification rate: 0.606472656415\n"
     ]
    }
   ],
   "source": [
    "## player_id fe's\n",
    "\n",
    "# How many unique players are there?\n",
    "unique_player_id = data['player_id'].unique()\n",
    "num = len(unique_player_id)\n",
    "print 'Number of unique shooters:', num\n",
    "\n",
    "# Create dummy var for each player id\n",
    "encoding = pd.get_dummies(data['player_id'])\n",
    "data_fe = pd.concat((data, encoding), axis=1)\n",
    "\n",
    "# New number of variables\n",
    "print 'Number of variables:', np.shape(data_fe)[1]\n",
    "\n",
    "# Choose x_set\n",
    "player_fe = data_fe.iloc[:, -num:]\n",
    "x_new = pd.concat((x_old, player_fe), axis=1)\n",
    "\n",
    "# Split robust predictors\n",
    "x_train, x_test, y_train, y_test = train_test_split(x_new, y, train_size=0.6, random_state=42)\n",
    "\n",
    "# Fit model\n",
    "robust_logit = LogisticRegression()\n",
    "robust_logit.fit(x_train, y_train)\n",
    "\n",
    "# Score and print\n",
    "score = robust_logit.score(x_test, y_test)\n",
    "print 'Classification rate:', score"
   ]
  },
  {
   "cell_type": "code",
   "execution_count": 111,
   "metadata": {
    "collapsed": false
   },
   "outputs": [
    {
     "name": "stdout",
     "output_type": "stream",
     "text": [
      "Number of unique games: 904\n",
      "Number of variables: 929\n",
      "Classification rate: 0.600521031897\n"
     ]
    }
   ],
   "source": [
    "## game_id fe's\n",
    "\n",
    "# How many unique games are there?\n",
    "unique_game_id = data['game_id'].unique()\n",
    "num = len(unique_game_id)\n",
    "print 'Number of unique games:', num\n",
    "\n",
    "# Create dummy var for each player id\n",
    "encoding = pd.get_dummies(data['game_id'])\n",
    "data_fe = pd.concat((data, encoding), axis=1)\n",
    "\n",
    "# New number of variables\n",
    "print 'Number of variables:', np.shape(data_fe)[1]\n",
    "\n",
    "# Choose x_set\n",
    "game_fe = data_fe.iloc[:, -num:]\n",
    "x_new = pd.concat((x_old, game_fe), axis=1)\n",
    "\n",
    "# Split robust predictors\n",
    "x_train, x_test, y_train, y_test = train_test_split(x_new, y, train_size=0.6, random_state=42)\n",
    "\n",
    "# Fit model\n",
    "robust_logit = LogisticRegression()\n",
    "robust_logit.fit(x_train, y_train)\n",
    "\n",
    "# Score and print\n",
    "score = robust_logit.score(x_test, y_test)\n",
    "print 'Classification rate:', score"
   ]
  },
  {
   "cell_type": "code",
   "execution_count": 112,
   "metadata": {
    "collapsed": false
   },
   "outputs": [
    {
     "name": "stdout",
     "output_type": "stream",
     "text": [
      "Classification rate: 0.600266869996\n"
     ]
    }
   ],
   "source": [
    "## All fe's\n",
    "\n",
    "# Choose x_set\n",
    "x_new = pd.concat((x_old, player_fe, defender_fe, game_fe), axis=1)\n",
    "\n",
    "# Split robust predictors\n",
    "x_train, x_test, y_train, y_test = train_test_split(x_new, y, train_size=0.6, random_state=42)\n",
    "\n",
    "# Fit model\n",
    "robust_logit = LogisticRegression()\n",
    "robust_logit.fit(x_train, y_train)\n",
    "\n",
    "# Score and print\n",
    "score = robust_logit.score(x_test, y_test)\n",
    "print 'Classification rate:', score"
   ]
  },
  {
   "cell_type": "code",
   "execution_count": 152,
   "metadata": {
    "collapsed": false
   },
   "outputs": [],
   "source": [
    "## Encode game clock var\n",
    "\n",
    "# grab old clock data\n",
    "old_clock = data['game_clock'].values\n",
    "new_time = []\n",
    "\n",
    "# loop through and make new_time array\n",
    "for x in old_clock:\n",
    "    minutes, seconds = x.split(':')\n",
    "    minutes, seconds = float(minutes), float(seconds)\n",
    "    new_time.append(minutes*60 + seconds)\n",
    "    \n",
    "# create new predictor column\n",
    "data['game_clock'] = new_time"
   ]
  },
  {
   "cell_type": "code",
   "execution_count": 153,
   "metadata": {
    "collapsed": false
   },
   "outputs": [
    {
     "data": {
      "text/html": [
       "<table class=\"simpletable\">\n",
       "<caption>Logit Regression Results</caption>\n",
       "<tr>\n",
       "  <th>Dep. Variable:</th>         <td>y</td>        <th>  No. Observations:  </th>  <td>118033</td> \n",
       "</tr>\n",
       "<tr>\n",
       "  <th>Model:</th>               <td>Logit</td>      <th>  Df Residuals:      </th>  <td>118023</td> \n",
       "</tr>\n",
       "<tr>\n",
       "  <th>Method:</th>               <td>MLE</td>       <th>  Df Model:          </th>  <td>     9</td> \n",
       "</tr>\n",
       "<tr>\n",
       "  <th>Date:</th>          <td>Wed, 07 Dec 2016</td> <th>  Pseudo R-squ.:     </th>  <td>0.04316</td>\n",
       "</tr>\n",
       "<tr>\n",
       "  <th>Time:</th>              <td>15:35:51</td>     <th>  Log-Likelihood:    </th> <td> -77818.</td>\n",
       "</tr>\n",
       "<tr>\n",
       "  <th>converged:</th>           <td>True</td>       <th>  LL-Null:           </th> <td> -81328.</td>\n",
       "</tr>\n",
       "<tr>\n",
       "  <th> </th>                      <td> </td>        <th>  LLR p-value:       </th>  <td> 0.000</td> \n",
       "</tr>\n",
       "</table>\n",
       "<table class=\"simpletable\">\n",
       "<tr>\n",
       "         <td></td>            <th>coef</th>     <th>std err</th>      <th>z</th>      <th>P>|z|</th> <th>[95.0% Conf. Int.]</th> \n",
       "</tr>\n",
       "<tr>\n",
       "  <th>previous_streak</th> <td>   -0.0087</td> <td>    0.003</td> <td>   -2.877</td> <td> 0.004</td> <td>   -0.015    -0.003</td>\n",
       "</tr>\n",
       "<tr>\n",
       "  <th>final_margin</th>    <td>    0.0093</td> <td>    0.000</td> <td>   20.130</td> <td> 0.000</td> <td>    0.008     0.010</td>\n",
       "</tr>\n",
       "<tr>\n",
       "  <th>dribbles</th>        <td>    0.0245</td> <td>    0.005</td> <td>    5.190</td> <td> 0.000</td> <td>    0.015     0.034</td>\n",
       "</tr>\n",
       "<tr>\n",
       "  <th>touch_time</th>      <td>   -0.0560</td> <td>    0.005</td> <td>  -10.212</td> <td> 0.000</td> <td>   -0.067    -0.045</td>\n",
       "</tr>\n",
       "<tr>\n",
       "  <th>shot_dist</th>       <td>   -0.0597</td> <td>    0.001</td> <td>  -70.949</td> <td> 0.000</td> <td>   -0.061    -0.058</td>\n",
       "</tr>\n",
       "<tr>\n",
       "  <th>close_def_dist</th>  <td>    0.0999</td> <td>    0.003</td> <td>   35.001</td> <td> 0.000</td> <td>    0.094     0.105</td>\n",
       "</tr>\n",
       "<tr>\n",
       "  <th>fg_percent</th>      <td>    0.4240</td> <td>    0.051</td> <td>    8.376</td> <td> 0.000</td> <td>    0.325     0.523</td>\n",
       "</tr>\n",
       "<tr>\n",
       "  <th>shot_clock</th>      <td>    0.0150</td> <td>    0.001</td> <td>   14.994</td> <td> 0.000</td> <td>    0.013     0.017</td>\n",
       "</tr>\n",
       "<tr>\n",
       "  <th>game_clock</th>      <td>-6.013e-05</td> <td> 2.94e-05</td> <td>   -2.045</td> <td> 0.041</td> <td>   -0.000  -2.5e-06</td>\n",
       "</tr>\n",
       "<tr>\n",
       "  <th>period</th>          <td>   -0.0134</td> <td>    0.005</td> <td>   -2.581</td> <td> 0.010</td> <td>   -0.024    -0.003</td>\n",
       "</tr>\n",
       "</table>"
      ],
      "text/plain": [
       "<class 'statsmodels.iolib.summary.Summary'>\n",
       "\"\"\"\n",
       "                           Logit Regression Results                           \n",
       "==============================================================================\n",
       "Dep. Variable:                      y   No. Observations:               118033\n",
       "Model:                          Logit   Df Residuals:                   118023\n",
       "Method:                           MLE   Df Model:                            9\n",
       "Date:                Wed, 07 Dec 2016   Pseudo R-squ.:                 0.04316\n",
       "Time:                        15:35:51   Log-Likelihood:                -77818.\n",
       "converged:                       True   LL-Null:                       -81328.\n",
       "                                        LLR p-value:                     0.000\n",
       "===================================================================================\n",
       "                      coef    std err          z      P>|z|      [95.0% Conf. Int.]\n",
       "-----------------------------------------------------------------------------------\n",
       "previous_streak    -0.0087      0.003     -2.877      0.004        -0.015    -0.003\n",
       "final_margin        0.0093      0.000     20.130      0.000         0.008     0.010\n",
       "dribbles            0.0245      0.005      5.190      0.000         0.015     0.034\n",
       "touch_time         -0.0560      0.005    -10.212      0.000        -0.067    -0.045\n",
       "shot_dist          -0.0597      0.001    -70.949      0.000        -0.061    -0.058\n",
       "close_def_dist      0.0999      0.003     35.001      0.000         0.094     0.105\n",
       "fg_percent          0.4240      0.051      8.376      0.000         0.325     0.523\n",
       "shot_clock          0.0150      0.001     14.994      0.000         0.013     0.017\n",
       "game_clock      -6.013e-05   2.94e-05     -2.045      0.041        -0.000  -2.5e-06\n",
       "period             -0.0134      0.005     -2.581      0.010        -0.024    -0.003\n",
       "===================================================================================\n",
       "\"\"\""
      ]
     },
     "execution_count": 153,
     "metadata": {},
     "output_type": "execute_result"
    }
   ],
   "source": [
    "## New model with game clock\n",
    "\n",
    "# Create array of possible confounders\n",
    "possible_confounders = ['previous_streak', 'final_margin', 'dribbles', 'touch_time', 'shot_dist', 'close_def_dist', \n",
    "                        'fg_percent', 'shot_clock', 'game_clock', 'period']\n",
    "\n",
    "# Choose x_set\n",
    "x = data[possible_confounders]\n",
    "\n",
    "# Look at results\n",
    "logit = sm.Logit(y, x)\n",
    "result = logit.fit(disp=0)\n",
    "result.summary()"
   ]
  },
  {
   "cell_type": "code",
   "execution_count": 154,
   "metadata": {
    "collapsed": false
   },
   "outputs": [
    {
     "name": "stdout",
     "output_type": "stream",
     "text": [
      "Classification rate: 0.60789172703\n"
     ]
    }
   ],
   "source": [
    "## Score model\n",
    "\n",
    "# Split robust predictors\n",
    "x_train, x_test, y_train, y_test = train_test_split(x, y, train_size=0.6, random_state=42)\n",
    "\n",
    "# Fit model\n",
    "robust_logit = LogisticRegression(C=100000000.0)\n",
    "robust_logit.fit(x_train, y_train)\n",
    "\n",
    "# Score and print\n",
    "score = robust_logit.score(x_test, y_test)\n",
    "print 'Classification rate:', score"
   ]
  }
 ],
 "metadata": {
  "kernelspec": {
   "display_name": "Python [Root]",
   "language": "python",
   "name": "Python [Root]"
  },
  "language_info": {
   "codemirror_mode": {
    "name": "ipython",
    "version": 2
   },
   "file_extension": ".py",
   "mimetype": "text/x-python",
   "name": "python",
   "nbconvert_exporter": "python",
   "pygments_lexer": "ipython2",
   "version": "2.7.12"
  }
 },
 "nbformat": 4,
 "nbformat_minor": 0
}
